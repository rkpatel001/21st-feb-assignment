{
 "cells": [
  {
   "cell_type": "code",
   "execution_count": 1,
   "id": "d0546dec-1b32-4d00-9a02-3b1549056886",
   "metadata": {},
   "outputs": [],
   "source": [
    "# Q1. What is Web Scraping? Why is it Used? Give three areas where Web Scraping is used to get data."
   ]
  },
  {
   "cell_type": "code",
   "execution_count": 2,
   "id": "7d34e256-d991-45d8-936a-92c7173b34ba",
   "metadata": {},
   "outputs": [
    {
     "data": {
      "text/plain": [
       "'web scrapping is a process of automatically mining data from the world wide web and stpring into data base\\n\\tweb sacrapping is used to extractng data from the web site\\n    Data mining: Web scraping tools can be used to extract large amounts of data from websites and then analyze it\\n    Price comperising :\\n    Review Scrapping :\\n    '"
      ]
     },
     "execution_count": 2,
     "metadata": {},
     "output_type": "execute_result"
    }
   ],
   "source": [
    "'''web scrapping is a process of automatically mining data from the world wide web and stpring into data base\n",
    "\tweb sacrapping is used to extractng data from the web site\n",
    "    Data mining: Web scraping tools can be used to extract large amounts of data from websites and then analyze it\n",
    "    Price comperising :\n",
    "    Review Scrapping :\n",
    "    '''"
   ]
  },
  {
   "cell_type": "code",
   "execution_count": 3,
   "id": "301ef87d-ce3f-41a2-b306-67076ded92ce",
   "metadata": {},
   "outputs": [],
   "source": [
    "# Q2. What are the different methods used for Web Scraping?"
   ]
  },
  {
   "cell_type": "code",
   "execution_count": 4,
   "id": "4f941b8d-fbd2-4bb2-b940-a7fc813f650f",
   "metadata": {},
   "outputs": [
    {
     "data": {
      "text/plain": [
       "'Human copy-and-paste.\\nText pattern matching. \\nHTTP programming. \\nHTML parsing'"
      ]
     },
     "execution_count": 4,
     "metadata": {},
     "output_type": "execute_result"
    }
   ],
   "source": [
    "'''Human copy-and-paste.\n",
    "Text pattern matching. \n",
    "HTTP programming. \n",
    "HTML parsing'''"
   ]
  },
  {
   "cell_type": "code",
   "execution_count": 5,
   "id": "f764848f-0481-4bbf-a5e0-70e624bc82f4",
   "metadata": {},
   "outputs": [],
   "source": [
    "# Q3. What is Beautiful Soup? Why is it used?"
   ]
  },
  {
   "cell_type": "code",
   "execution_count": 6,
   "id": "c387a952-e3fd-45e4-ba68-cad5fcbe08eb",
   "metadata": {},
   "outputs": [
    {
     "data": {
      "text/plain": [
       "\"Beautyful soup is use to modified html and xml\\n   code into simple code when u are usin beautyful soup yo don't need to do encoding\""
      ]
     },
     "execution_count": 6,
     "metadata": {},
     "output_type": "execute_result"
    }
   ],
   "source": [
    "'''Beautyful soup is use to modified html and xml\n",
    "   code into simple code when u are usin beautyful soup yo don't need to do encoding'''"
   ]
  },
  {
   "cell_type": "code",
   "execution_count": 7,
   "id": "ee74a4f8-7a45-4309-8767-bb5f352c9d71",
   "metadata": {},
   "outputs": [],
   "source": [
    "# Q4. Why is flask used in this Web Scraping project?"
   ]
  },
  {
   "cell_type": "code",
   "execution_count": 8,
   "id": "6b7d7938-b853-43fb-8fec-3e9b757a3bc7",
   "metadata": {},
   "outputs": [
    {
     "data": {
      "text/plain": [
       "'flask is a lightweight framework to building a website \\nflask provides a tools , function and libarary to build an applicaton'"
      ]
     },
     "execution_count": 8,
     "metadata": {},
     "output_type": "execute_result"
    }
   ],
   "source": [
    "'''flask is a lightweight framework to building a website \n",
    "flask provides a tools , function and libarary to build an applicaton'''"
   ]
  },
  {
   "cell_type": "code",
   "execution_count": 9,
   "id": "d0f89a3b-23c4-459d-8303-fac60df88ebf",
   "metadata": {},
   "outputs": [],
   "source": [
    "# Q5. Write the names of AWS services used in this project. Also, explain the use of each service."
   ]
  },
  {
   "cell_type": "code",
   "execution_count": null,
   "id": "686cbab9-8b6d-4ae2-a291-352a6f8d1cfd",
   "metadata": {},
   "outputs": [],
   "source": [
    "'''Threr are two services we are using in this project first is beanstalk and second is pipline\n",
    "beanstalk is automatically handle the code and manage deploying and scaling \n",
    "piplne is conecter of our code and beanstalk'''"
   ]
  }
 ],
 "metadata": {
  "kernelspec": {
   "display_name": "Python 3 (ipykernel)",
   "language": "python",
   "name": "python3"
  },
  "language_info": {
   "codemirror_mode": {
    "name": "ipython",
    "version": 3
   },
   "file_extension": ".py",
   "mimetype": "text/x-python",
   "name": "python",
   "nbconvert_exporter": "python",
   "pygments_lexer": "ipython3",
   "version": "3.10.8"
  }
 },
 "nbformat": 4,
 "nbformat_minor": 5
}
